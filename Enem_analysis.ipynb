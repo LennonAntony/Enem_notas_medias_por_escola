{
 "cells": [
  {
   "cell_type": "code",
   "execution_count": 10,
   "metadata": {},
   "outputs": [],
   "source": [
    "#importa bibliotecas necessárias\n",
    "import pandas as pd\n",
    "import numpy as np\n",
    "import seaborn as sns\n",
    "import matplotlib.pyplot as plt\n",
    "import os\n",
    "import glob"
   ]
  },
  {
   "cell_type": "code",
   "execution_count": 193,
   "metadata": {},
   "outputs": [],
   "source": [
    "#cria função para criar um gráfico de histograma e salvar na pasta\n",
    "def hist_plot_and_save(df_t, output_filename, graph_color):\n",
    "    fig, ax = plt.subplots(figsize=(4, 0.3))  # define figsize of graphic\n",
    "    ax.set_xlim(0, 1000)  # define os limites do eixo x\n",
    "    ax.spines['bottom'].set_color('gray')  # define a cor do eixo x (cinza)\n",
    "    ax.set(yticks=[])  # remove o eixo y (densidade)\n",
    "    sns.despine(top=True, right=True, left=True, bottom=False)  # remove a moldura do gráfico, exceto a inferior\n",
    "    ax.xaxis.set_ticks_position('none')  # remove as marcações do eixo x\n",
    "    sns.kdeplot(df_t[\"mean_note\"], color=graph_color, edgecolor='none', fill=True, ax=ax)  # plota o histograma\n",
    "\n",
    "    # Adiciona marcadores no eixo x\n",
    "    ax.set_xticks([0, df_t[\"mean_note\"].mean(), 1000])\n",
    "    ax.set_xticklabels([0, round(df_t[\"mean_note\"].mean(), 2), 1000])\n",
    "\n",
    "    ax.set_xlabel('')  # Remove x-axis label\n",
    "\n",
    "    fig.savefig(output_filename, bbox_inches='tight', dpi=300)\n",
    "    plt.close()  # close figure to economize memory\n"
   ]
  },
  {
   "cell_type": "code",
   "execution_count": 194,
   "metadata": {},
   "outputs": [],
   "source": [
    "csv_files = glob.glob(os.path.join('*.csv')) # cria lista de csv do enem"
   ]
  },
  {
   "cell_type": "code",
   "execution_count": 195,
   "metadata": {},
   "outputs": [],
   "source": [
    "# define listas de colunas necessárias\n",
    "cols = [\"NU_NOTA_CN\", \"NU_NOTA_CH\", \"NU_NOTA_LC\", \"NU_NOTA_MT\", \"NU_NOTA_REDACAO\", \"TP_ESCOLA\"]\n",
    "    "
   ]
  },
  {
   "cell_type": "markdown",
   "metadata": {},
   "source": [
    "*Cria um dicionário fazendo o tratamento adequado para cada especificidade da coluna TP_ESCOLA para cada ano de análise. Isso ocorre, porque muitas vezes as bases públicas governamentais não mantém um certo padrão."
   ]
  },
  {
   "cell_type": "code",
   "execution_count": 196,
   "metadata": {},
   "outputs": [],
   "source": [
    "school_type = {\n",
    "    \"2012\": {\n",
    "        1: 'publica',\n",
    "        2: 'privada'\n",
    "    },\n",
    "    \"2013\": {\n",
    "        1: 'publica',\n",
    "        2: 'privada'\n",
    "    },\n",
    "    \"2014\": {\n",
    "        1: 'publica',\n",
    "        2: 'privada'\n",
    "    },\n",
    "    \"2015\": {\n",
    "        1: 'nr',\n",
    "        2: 'publica',\n",
    "        3: 'privada',\n",
    "        4: 'ex'\n",
    "    },\n",
    "    \"2016\": {\n",
    "        1: 'nr',\n",
    "        2: 'publica',\n",
    "        3: 'privada',\n",
    "        4: 'ex'\n",
    "    },\n",
    "    \"2017\": {\n",
    "        1: 'nr',\n",
    "        2: 'publica',\n",
    "        3: 'privada',\n",
    "        4: 'ex'\n",
    "    },\n",
    "    \"2018\": {\n",
    "        1: 'nr',\n",
    "        2: 'publica',\n",
    "        3: 'ex',\n",
    "        4: 'privada'\n",
    "    },\n",
    "    \"2019\": {\n",
    "        1: 'nr',\n",
    "        2: 'publica',\n",
    "        3: 'privada',\n",
    "        4: 'ex'\n",
    "    },\n",
    "    \"2020\": {\n",
    "        1: 'nr',\n",
    "        2: 'publica',\n",
    "        3: 'privada',\n",
    "        4: 'ex'\n",
    "    },\n",
    "    \"2021\": {\n",
    "        1: 'nr',\n",
    "        2: 'publica',\n",
    "        3: 'privada'\n",
    "    },\n",
    "    \"2022\": {\n",
    "        1: 'nr',\n",
    "        2: 'publica',\n",
    "        3: 'privada'\n",
    "    }\n",
    "}\n",
    "\n",
    "#cria dicionário de cor pra cada tipo de escola, que vai ser utilizado para colocar a cor no gráfico posteriormente\n",
    "color_school = {\"publica\": \"green\",\n",
    "               \"privada\": \"blue\"}"
   ]
  },
  {
   "cell_type": "code",
   "execution_count": 197,
   "metadata": {},
   "outputs": [
    {
     "name": "stdout",
     "output_type": "stream",
     "text": [
      "2012\n",
      "2013\n",
      "2014\n",
      "2015\n",
      "2016\n",
      "2017\n",
      "2018\n",
      "2019\n",
      "2020\n",
      "2021\n",
      "2022\n"
     ]
    }
   ],
   "source": [
    "for csv in csv_files:\n",
    "    # lÊ csv's, econding em latin, separa por ; padrão do csv e determina as colunas necessárias\n",
    "    df = pd.read_csv(csv, encoding=\"latin\", sep=\";\",usecols=cols) \n",
    "\n",
    "    year = csv[-8:-4] # cria váriavel de ano do arquivo\n",
    "    df.dropna(inplace=True) # dropa valores\n",
    "    df['mean_note'] = df[cols[0:-1]].mean(axis=1) #faz média simples entre 5 notas do enem\n",
    "    df['TP_ESCOLA'] = df['TP_ESCOLA'].map(school_type[year]) #trata coluna \"TP_ESCOLA\" conforme dicionário\n",
    "\n",
    "    for type_ in color_school: # cria loop para rodar gráfico para cada tipo de escola\n",
    "        file_name = csv[-8:-4] + \"_\" + type_\n",
    "        df_t = df[df[\"TP_ESCOLA\"] == type_]\n",
    "        \n",
    "        hist_plot_and_save(df_t,file_name, color_school[type_]) # cria gráfico e salva na pasta.\n",
    "        \n",
    "    \n",
    "    \n",
    "    #print ano para eu ver o andamento do código\n",
    "    print(year) "
   ]
  },
  {
   "cell_type": "markdown",
   "metadata": {},
   "source": []
  },
  {
   "cell_type": "markdown",
   "metadata": {},
   "source": [
    "# O restante da imagem que consta no linkedin foi feita por meio do Figma\n"
   ]
  },
  {
   "cell_type": "markdown",
   "metadata": {},
   "source": []
  }
 ],
 "metadata": {
  "kernelspec": {
   "display_name": "Python 3",
   "language": "python",
   "name": "python3"
  },
  "language_info": {
   "codemirror_mode": {
    "name": "ipython",
    "version": 3
   },
   "file_extension": ".py",
   "mimetype": "text/x-python",
   "name": "python",
   "nbconvert_exporter": "python",
   "pygments_lexer": "ipython3",
   "version": "3.12.0"
  }
 },
 "nbformat": 4,
 "nbformat_minor": 2
}
